{
 "cells": [
  {
   "attachments": {},
   "cell_type": "markdown",
   "metadata": {},
   "source": [
    "# TO DO\n",
    "- Update readme and other instructions\n",
    "- Resolve Scaling issue - currently the scaling doesn't seem to work on granules 16, 20, 24, or 29. These HLS Granules don't have the scale factor in the proper location in the metadata and somewhere within xarray or rioxarray this data is used regardless of whether `mask_and_sale=True`. I tried to implement a manual scaling process if the granule has an average value higher than what would be expected for reflectance values, but this doesn't seem to work for an unknown reason."
   ]
  },
  {
   "attachments": {},
   "cell_type": "markdown",
   "metadata": {},
   "source": [
    "# Getting Started with Cloud-Native HLS Data in Python\n",
    "\n",
    "**Summary**\n",
    "\n",
    "This tutorial was developed using an example use case for crop monitoring over a single large farm field in northern California. **The goal of the project is to observe HLS-derived mean EVI over a farm field in northern California without downloading the entirety of the HLS source data.** In this notebook we will extract and EVI timeseries from Harmonized Landsat Sentinel-2 (HLS) data in the Cloud using CMR's SpatioTemporal Asset Catalog (CMR-STAC).  This tutorial will show how to use the CMR-STAC API to investigate the HLS collections available in the cloud and search for and subset to the specific time period, bands (layers), and region of interest for our use case, load subsets of the desired COGs into a Jupyter Notebook directly from the cloud, quality filter and calculate EVI, stack the time series, visualize the time series, and export a CSV of statistics on the EVI of the single farm field.  \n",
    "\n",
    "**Background**\n",
    "\n",
    "The  Harmonized Landsat Sentinel-2 ([HLS](https://lpdaac.usgs.gov/data/get-started-data/collection-overview/missions/harmonized-landsat-sentinel-2-hls-overview/)) project produces seamless, harmonized surface reflectance data from the Operational Land Imager (OLI) and Multi-Spectral Instrument (MSI) aboard Landsat and Sentinel-2 Earth-observing satellites, respectively. The aim is to produce seamless products with normalized parameters, which include atmospheric correction, cloud and cloud-shadow masking, geographic co-registration and common gridding, normalized bidirectional reflectance distribution function, and spectral band adjustment. This will provide global observation of the Earth’s surface every 2-3 days with 30 meter spatial resolution. One of the major applications that will benefit from HLS is agriculture assessment and monitoring, which is used as the use case for this tutorial.  \n",
    "\n",
    "NASA's Land Processes Distributed Active Archive Center (LP DAAC) archives and distributes HLS products in the LP DAAC Cumulus cloud archive as Cloud Optimized GeoTIFFs (COG). This tutorial will demonstrate  Because these data are stored as COGs, this tutorial will teach users how to load subsets of individual files into memory for just the bands you are interested in--a paradigm shift from the more common workflow where you would need to download a .zip/HDF file containing every band over the entire scene/tile. This tutorial covers how to process HLS data (quality filtering and EVI calculation), visualize, and \"stack\" the scenes over a region of interest into an [xarray](http://xarray.pydata.org/en/stable/) data array, calculate statistics for an EVI time series, and export as a comma-separated values (CSV) file--providing you with all of the information you need for your area of interest without having to download the source data file. The Enhanced Vegetation Index ([EVI](https://earthobservatory.nasa.gov/features/MeasuringVegetation/measuring_vegetation_4.php)), is a vegetation index similar to NDVI that has been found to be more sensitive to ground cover below the vegetated canopy and saturates less over areas of dense green vegetation.  \n",
    "\n",
    "**Requirements**\n",
    "\n",
    "- A [NASA Earthdata Login](https://urs.earthdata.nasa.gov/) account is required to download the data used in this tutorial. You can create an account at the link provided.\n",
    "- You will will also need to have a netrc file set up in your home directory in order to successfully run the code below. A code chunk in a later section provides a way to do this, or you can check out the [setup_intstructions.md](../../python/setup/setup_instructions.md).\n",
    "\n",
    "**Learning Objectives**\n",
    "\n",
    "- How to work with HLS Landsat ([HLSL30.002](https://doi.org/10.5067/HLS/HLSL30.002)) and Sentinel-2 ([HLSS30.002](https://doi.org/10.5067/HLS/HLSS30.002)) data products\n",
    "- How to query and subset HLS data using the NASA Common Metadata Repository (CMR) SpatioTemporal Asset Catalog (STAC) application programming interface (API)\n",
    "- How to access and work with cloud stored HLS data \n",
    "- How to filter data using HLS quality information\n",
    "\n",
    "**Tutorial Outline**\n",
    "\n",
    "1. [**Getting Started**](#getstarted)  \n",
    "    1.1 Import Packages and Set up the Working Environment         \n",
    "2. [**Navigating the CMR-STAC API**](#navigatestac)      \n",
    "    2.1 Introduction to the CMR-STAC API     \n",
    "3. [**CMR-STAC API: Searching for Items**](#searchstac)      \n",
    "    3.1 Spatial Querying via Bounding Box  \n",
    "    3.2 Temporal Querying  \n",
    "4. [**Extracting HLS COGs from the Cloud**](#extracthls)        \n",
    "    4.1 Subset by Band   \n",
    "    4.2 Load a Spatially Subset HLS COG into Memory  \n",
    "5. [**Processing HLS Data**](#processhls)    \n",
    "    5.1 Apply Scale Factor and Calculate EVI    \n",
    "    5.2 Quality Filtering   \n",
    "    5.3 Export to COG   \n",
    "6. [**Automation**](#automation)     \n",
    "7. [**Stacking HLS Data**](#stackhls)    \n",
    "    7.1 Open COGs and Stack Using Xarray      \n",
    "    7.2 Visualize Stacked Time Series  \n",
    "    7.3 Export Statistics \n",
    "\n",
    "**Data Used in the Example**  \n",
    "\n",
    "- Daily 30 meter (m) global HLS Sentinel-2 Multi-spectral Instrument Surface Reflectance - [HLSS30.002](https://doi.org/10.5067/HLS/HLSS30.002)\n",
    "    - The HLSS30 product provides 30 m Nadir normalized Bidirectional Reflectance Distribution Function (BRDF)-Adjusted Reflectance (NBAR) and is derived from Sentinel-2A and Sentinel-2B MSI data products._  \n",
    "     - Science Dataset (SDS) layers: \n",
    "        - B8A (NIR Narrow)  \n",
    "        - B04 (Red)  \n",
    "        - B02 (Blue)  \n",
    "        - Fmask (Quality)    \n",
    "\n",
    "- Daily 30 meter (m) global HLS Landsat-8 OLI Surface Reflectance - [HLSL30.002](https://doi.org/10.5067/HLS/HLSL30.002)\n",
    "    - The HLSL30 product provides 30 m Nadir normalized Bidirectional Reflectance Distribution Function (BRDF)-Adjusted Reflectance (NBAR) and is derived from Landsat-8 OLI data products.  \n",
    "     - Science Dataset (SDS) layers:\n",
    "        - B05 (NIR)  \n",
    "        - B04 (Red)  \n",
    "        - B02 (Blue)  \n",
    "        - Fmask (Quality)  "
   ]
  },
  {
   "attachments": {},
   "cell_type": "markdown",
   "metadata": {},
   "source": [
    "---"
   ]
  },
  {
   "attachments": {},
   "cell_type": "markdown",
   "metadata": {},
   "source": [
    "## 1. Getting Started <a id=\"getstarted\"></a>"
   ]
  },
  {
   "attachments": {},
   "cell_type": "markdown",
   "metadata": {},
   "source": [
    "### 1.1 Import Packages <a id=\"1.1\"></a>"
   ]
  },
  {
   "attachments": {},
   "cell_type": "markdown",
   "metadata": {},
   "source": [
    "Import the required packages."
   ]
  },
  {
   "cell_type": "code",
   "execution_count": null,
   "metadata": {},
   "outputs": [],
   "source": [
    "import os\n",
    "from datetime import datetime\n",
    "import requests as r\n",
    "import numpy as np\n",
    "import pandas as pd\n",
    "import geopandas as gp\n",
    "from skimage import io\n",
    "import matplotlib.pyplot as plt\n",
    "from osgeo import gdal\n",
    "import rasterio as rio\n",
    "import xarray as xr\n",
    "import rioxarray as rxr\n",
    "from cartopy import crs\n",
    "import hvplot.xarray\n",
    "import hvplot.pandas\n",
    "import json\n",
    "import panel as pn\n",
    "import earthaccess"
   ]
  },
  {
   "attachments": {},
   "cell_type": "markdown",
   "metadata": {},
   "source": [
    "### 1.2 EarthData Login\n",
    "\n",
    "Use earthaccess to sign into your earthdata login. This function uses a local `.netrc` file to store credentials. If you do not have a `.netrc` file, you will be prompted for your credentials and one will be created."
   ]
  },
  {
   "cell_type": "code",
   "execution_count": null,
   "metadata": {},
   "outputs": [],
   "source": [
    "earthaccess.login(persist=True)"
   ]
  },
  {
   "attachments": {},
   "cell_type": "markdown",
   "metadata": {},
   "source": [
    "## 2. Finding HLS Data\n",
    "\n",
    "To locate HLS data, we will use the `earthaccess` python library to search NASA's Common Metadata Repository (CMR) for HLS data. We will open a geojson file with a polygon of our ROI that we can use in our search. To do this, we will simplify it to a bounding box. Grab the bounding coordinates from the geopandas object after opening."
   ]
  },
  {
   "cell_type": "code",
   "execution_count": null,
   "metadata": {},
   "outputs": [],
   "source": [
    "field = gp.read_file('../../data/Field_Boundary.geojson')\n",
    "bbox = (field['geometry'][0].bounds[0],field['geometry'][0].bounds[1],field['geometry'][0].bounds[2],field['geometry'][0].bounds[3])"
   ]
  },
  {
   "attachments": {},
   "cell_type": "markdown",
   "metadata": {},
   "source": [
    "When searching we can also search a specific time period of interest. Here we search from the beginning of July 2021 to the end of August 2021."
   ]
  },
  {
   "cell_type": "code",
   "execution_count": null,
   "metadata": {},
   "outputs": [],
   "source": [
    "temporal = (\"2021-07-01T00:00:00\", \"2021-08-31T23:59:59\")"
   ]
  },
  {
   "attachments": {},
   "cell_type": "markdown",
   "metadata": {},
   "source": [
    "\n",
    "Since HLS is a part of 2 collections, HLSL30 and HLSS30, we will include both short names. Search using our constraints and the `count = 100` to limit our search to 100 results."
   ]
  },
  {
   "cell_type": "code",
   "execution_count": null,
   "metadata": {},
   "outputs": [],
   "source": [
    "results = earthaccess.search_data(\n",
    "    short_name=['HLSL30','HLSS30'],\n",
    "    bounding_box=bbox,\n",
    "    temporal=temporal, # 2021-07-01T00:00:00Z/2021-08-31T23:59:59Z\n",
    "    count=100\n",
    ")"
   ]
  },
  {
   "attachments": {},
   "cell_type": "markdown",
   "metadata": {},
   "source": [
    "We can preview these results in a dataframe like below if we want to check the metadata. Note we only show the first 5."
   ]
  },
  {
   "cell_type": "code",
   "execution_count": null,
   "metadata": {},
   "outputs": [],
   "source": [
    "pd.json_normalize(results).head(5)"
   ]
  },
  {
   "attachments": {},
   "cell_type": "markdown",
   "metadata": {},
   "source": [
    "We can also preview each individual result by selecting it from the list. This will show the data links, and a browse image. "
   ]
  },
  {
   "cell_type": "code",
   "execution_count": null,
   "metadata": {},
   "outputs": [],
   "source": [
    "results[0]"
   ]
  },
  {
   "attachments": {},
   "cell_type": "markdown",
   "metadata": {},
   "source": [
    "We can grab all of the urls for the data and the urls for the browse images using list comprehension."
   ]
  },
  {
   "cell_type": "code",
   "execution_count": null,
   "metadata": {},
   "outputs": [],
   "source": [
    "# Data\n",
    "hls_results_urls = [granule.data_links() for granule in results]\n",
    "# Browse Images \n",
    "browse_urls = [granule.dataviz_links()[0] for granule in results] # 0 retrieves only the https links"
   ]
  },
  {
   "attachments": {},
   "cell_type": "markdown",
   "metadata": {},
   "source": [
    "---"
   ]
  },
  {
   "attachments": {},
   "cell_type": "markdown",
   "metadata": {},
   "source": [
    "## 3. Extracting HLS COGs from the Cloud <a id=\"extracthls\"></a>\n",
    "\n",
    "Now that we have a list of URLs, we will configure `gdal` and `rioxarray` to use `vsicurl` to access the cloud assets that we are interested in, and read them directly into memory without needing to download the files. "
   ]
  },
  {
   "attachments": {},
   "cell_type": "markdown",
   "metadata": {},
   "source": [
    "Accessing data stored in the Cloud is done using Python libraries that leverage GDAL's virtual file systems. Whether you are running this code in the Cloud or in a local workspace, GDAL configurations must be set in order to successfully access the HLS COG files."
   ]
  },
  {
   "cell_type": "code",
   "execution_count": null,
   "metadata": {},
   "outputs": [],
   "source": [
    "# GDAL configurations used to successfully access LP DAAC Cloud Assets via vsicurl \n",
    "gdal.SetConfigOption('GDAL_HTTP_COOKIEFILE','~/cookies.txt')\n",
    "gdal.SetConfigOption('GDAL_HTTP_COOKIEJAR', '~/cookies.txt')\n",
    "gdal.SetConfigOption('GDAL_DISABLE_READDIR_ON_OPEN','EMPTY_DIR')\n",
    "gdal.SetConfigOption('CPL_VSIL_CURL_ALLOWED_EXTENSIONS','TIF')"
   ]
  },
  {
   "attachments": {},
   "cell_type": "markdown",
   "metadata": {},
   "source": [
    "## 4.1 Subset by Band <a id=\"2.1\"></a>"
   ]
  },
  {
   "attachments": {},
   "cell_type": "markdown",
   "metadata": {},
   "source": [
    "View the contents of the first item."
   ]
  },
  {
   "cell_type": "code",
   "execution_count": null,
   "metadata": {
    "scrolled": true
   },
   "outputs": [],
   "source": [
    "h = hls_results_urls[16]  #16, 20, 24, 29 Have issues ( 24, 29 are all 0 values, but if statement is not removing them)\n",
    "h"
   ]
  },
  {
   "attachments": {},
   "cell_type": "markdown",
   "metadata": {},
   "source": [
    "Subset by band by filtering to only include the NIR, Red, Blue, and Quality (Fmask) layers in the list of links to access. Below you can find the different band numbers for each of the two products."
   ]
  },
  {
   "attachments": {},
   "cell_type": "markdown",
   "metadata": {},
   "source": [
    "### Sentinel 2:\n",
    "    - \"narrow\" NIR = B8A\n",
    "    - Red = B04\n",
    "    - Blue = B02  \n",
    "    - Quality = Fmask\n",
    "### Landsat 8:\n",
    "    - NIR = B05\n",
    "    - Red = B04\n",
    "    - Blue = B02  \n",
    "    - Quality = Fmask"
   ]
  },
  {
   "cell_type": "code",
   "execution_count": null,
   "metadata": {},
   "outputs": [],
   "source": [
    "evi_band_links = []\n",
    "\n",
    "# Define which HLS product is being accessed\n",
    "if h[0].split('/')[4] == 'HLSS30.020':\n",
    "    evi_bands = ['B8A', 'B04', 'B02', 'Fmask'] # NIR RED BLUE Quality for S30\n",
    "else:\n",
    "    evi_bands = ['B05', 'B04', 'B02', 'Fmask'] # NIR RED BLUE Quality for L30\n",
    "\n",
    "# Subset the assets in the item down to only the desired bands\n",
    "for a in h: \n",
    "    if any(b in a for b in evi_bands):\n",
    "        evi_band_links.append(a)\n",
    "evi_band_links"
   ]
  },
  {
   "attachments": {},
   "cell_type": "markdown",
   "metadata": {},
   "source": [
    "Remember from above that you can always quickly load in the browse image to get a quick view of the item using our list of browse URLs."
   ]
  },
  {
   "cell_type": "code",
   "execution_count": null,
   "metadata": {},
   "outputs": [],
   "source": [
    "image = io.imread(browse_urls[0])  # Load jpg browse image into memory\n",
    "\n",
    "# Basic plot of the image\n",
    "plt.figure(figsize=(10,10))              \n",
    "plt.imshow(image)\n",
    "plt.show()"
   ]
  },
  {
   "attachments": {},
   "cell_type": "markdown",
   "metadata": {},
   "source": [
    "Above, we see a partly cloudy observation over the northern Central Valley of California. "
   ]
  },
  {
   "cell_type": "code",
   "execution_count": null,
   "metadata": {},
   "outputs": [],
   "source": [
    "del image # Remove the browse image"
   ]
  },
  {
   "attachments": {},
   "cell_type": "markdown",
   "metadata": {},
   "source": [
    "HLS COGs are broken into chunks allowing data to be read more efficiently without loading the entire file into memory. Define the chunk size of an HLS tile, then read the files using `rioxarray` and name them based upon the band, and then scale and mask the data with NaN values. We also squeeze the object to remove the band dimension from most of the files, since there is only 1 band. We treat the mask layer a bit differently, leaving it unscaled and keeping the `band` dimension because we'll utilize it later."
   ]
  },
  {
   "cell_type": "code",
   "execution_count": null,
   "metadata": {},
   "outputs": [],
   "source": [
    "# Use vsicurl to load the data directly into memory (be patient, may take a few seconds)\n",
    "chunk_size = dict(band=1, x=512, y=512) # Tiles have 1 band and are divided into 512x512 pixel chunks\n",
    "for e in evi_band_links:\n",
    "    print(e)\n",
    "    if e.rsplit('.', 2)[-2] == evi_bands[0]:      # NIR index\n",
    "        nir = rxr.open_rasterio(e, chunks=chunk_size, mask_and_scale=True).squeeze('band', drop=True)\n",
    "    elif e.rsplit('.', 2)[-2] == evi_bands[1]:    # red index\n",
    "        red = rxr.open_rasterio(e, chunks=chunk_size, mask_and_scale=True).squeeze('band', drop=True)\n",
    "    elif e.rsplit('.', 2)[-2] == evi_bands[2]:    # blue index\n",
    "        blue = rxr.open_rasterio(e, chunks=chunk_size, mask_and_scale=True).squeeze('band', drop=True)\n",
    "    elif e.rsplit('.', 2)[-2] == evi_bands[3]:    # Fmask index\n",
    "        fmask = rxr.open_rasterio(e, chunks=chunk_size).squeeze('band', drop=True)\n",
    "print(\"The COGs have been loaded into memory!\")"
   ]
  },
  {
   "attachments": {},
   "cell_type": "markdown",
   "metadata": {},
   "source": [
    "> **NOTE:** Getting an error in the section above? Accessing these files in the cloud requires you to authenticate using your NASA Earthdata Login account. You will need to have a netrc file set up containing those credentials in your home directory in order to successfully run the code below. Check out the `Setting up a netrc File` section in the [README](https://git.earthdata.nasa.gov/projects/LPDUR/repos/hls-tutorial/browse/README.md)."
   ]
  },
  {
   "attachments": {},
   "cell_type": "markdown",
   "metadata": {},
   "source": [
    "Below, take the farm field `geopandas` dataframe convert it from lat/lon (EPSG: 4326) into the [native projection of HLS](https://lpdaac.usgs.gov/data/get-started-data/collection-overview/missions/harmonized-landsat-sentinel-2-hls-overview/#hls-tiling-system), UTM (aligned to the Military Grid Reference System). This must be done in order to use the Region of Interest (ROI) to subset the COG that is being pulled into memory--it must be in the native projection of the data being extracted. "
   ]
  },
  {
   "cell_type": "code",
   "execution_count": null,
   "metadata": {},
   "outputs": [],
   "source": [
    "fsUTM = field.to_crs(nir.spatial_ref.crs_wkt) # Take the CRS from the NIR tile that we opened and apply it to our field geodataframe.\n",
    "fsUTM"
   ]
  },
  {
   "attachments": {},
   "cell_type": "markdown",
   "metadata": {},
   "source": [
    "Now, we can use our field ROI to mask any pixels that fall outside of it and crop to the bounding box using `rasterio`. This greatly reduces the amount of data that are needed to load into memory. "
   ]
  },
  {
   "cell_type": "code",
   "execution_count": null,
   "metadata": {},
   "outputs": [],
   "source": [
    "nir_cropped = nir.rio.clip(fsUTM.geometry.values, fsUTM.crs, all_touched=True) #All touched includes any pixels touched by the polygon\n",
    "nir_cropped"
   ]
  },
  {
   "attachments": {},
   "cell_type": "markdown",
   "metadata": {},
   "source": [
    "Now plot the cropped NIR data."
   ]
  },
  {
   "cell_type": "code",
   "execution_count": null,
   "metadata": {},
   "outputs": [],
   "source": [
    "nir_cropped.hvplot.image(aspect='equal', cmap='viridis', frame_width=300).opts(title='HLS Cropped NIR Band')  # Quick visual to assure that it worked"
   ]
  },
  {
   "attachments": {},
   "cell_type": "markdown",
   "metadata": {},
   "source": [
    "Above, you can see that the data have been loaded into memory already subset to our ROI. Also notice that the data has not been scaled and fill-values still remain even though we used the `mask_and_scale` option in `rioxarray`. Some HLS.L30 tiles have the `scale_factor` in a different location in the metadata causing this not to work. We can mask and scale those using a function, if the data is outside of a reasonable value."
   ]
  },
  {
   "cell_type": "code",
   "execution_count": null,
   "metadata": {},
   "outputs": [],
   "source": [
    "# Define function to scale \n",
    "def fix_scaling(band):\n",
    "    if np.nanmean(band.data) > 10: # Reflectance should typically be <= to 1\n",
    "        band.data = band.data*0.0001 # Scale factor for HLS\n",
    "    return(band)"
   ]
  },
  {
   "cell_type": "code",
   "execution_count": null,
   "metadata": {},
   "outputs": [],
   "source": [
    "nir_cropped = fix_scaling(nir_cropped)"
   ]
  },
  {
   "attachments": {},
   "cell_type": "markdown",
   "metadata": {},
   "source": [
    "We can plot to confirm our manual scaling worked."
   ]
  },
  {
   "cell_type": "code",
   "execution_count": null,
   "metadata": {},
   "outputs": [],
   "source": [
    "nir_cropped.hvplot.image(aspect='equal', cmap='viridis', frame_width=300).opts(title='HLS Cropped NIR Band')  # Quick visual to assure that it worked"
   ]
  },
  {
   "attachments": {},
   "cell_type": "markdown",
   "metadata": {},
   "source": [
    "Next, load in the red and blue bands and fix their scaling as well."
   ]
  },
  {
   "cell_type": "code",
   "execution_count": null,
   "metadata": {},
   "outputs": [],
   "source": [
    "# Red\n",
    "red_cropped = red.rio.clip(fsUTM.geometry.values, fsUTM.crs, all_touched=True)\n",
    "red_cropped = fix_scaling(red_cropped)\n",
    "# Blue\n",
    "blue_cropped = blue.rio.clip(fsUTM.geometry.values, fsUTM.crs, all_touched=True)\n",
    "blue_cropped = fix_scaling(blue_cropped)\n",
    "print('Data is loaded and scaling fixed!')"
   ]
  },
  {
   "attachments": {},
   "cell_type": "markdown",
   "metadata": {},
   "source": [
    "---\n",
    "## 5. Processing HLS Data <a id=\"processhls\"></a>\n",
    "\n",
    "In this section, define a function to calculate EVI, and execute the EVI function on the data loaded into memory. After that, perform quality filtering to screen out any poor quality observations. "
   ]
  },
  {
   "attachments": {},
   "cell_type": "markdown",
   "metadata": {},
   "source": [
    "### 5.1 Apply Scale Factor and Calculate EVI <a id=\"2.1\"></a>"
   ]
  },
  {
   "attachments": {},
   "cell_type": "markdown",
   "metadata": {},
   "source": [
    "Read the file metadata."
   ]
  },
  {
   "cell_type": "code",
   "execution_count": null,
   "metadata": {},
   "outputs": [],
   "source": [
    "nir_cropped.attrs"
   ]
  },
  {
   "attachments": {},
   "cell_type": "markdown",
   "metadata": {},
   "source": [
    "Define a function for calculating EVI using the NIR, Red, and Blue bands and build an `xarray.DataArray` from the NIR, Red, and Blue bands."
   ]
  },
  {
   "cell_type": "code",
   "execution_count": null,
   "metadata": {},
   "outputs": [],
   "source": [
    "def calc_evi(red, blue, nir):\n",
    "      # Create EVI xarray.DataArray that has the same coordinates and metadata\n",
    "      evi = red.copy()\n",
    "      # Calculate the EVI\n",
    "      evi_data = 2.5 * ((nir.data - red.data) / (nir.data + 6.0 * red.data - 7.5 * blue.data + 1.0))\n",
    "      # Replace the Red xarray.DataArray data with the new EVI data\n",
    "      evi.data = evi_data\n",
    "      # change the long_name in the attributes\n",
    "      evi.attrs['long_name'] = 'EVI'\n",
    "      return evi"
   ]
  },
  {
   "attachments": {},
   "cell_type": "markdown",
   "metadata": {},
   "source": [
    "Below, apply the EVI function on the scaled data."
   ]
  },
  {
   "cell_type": "code",
   "execution_count": null,
   "metadata": {},
   "outputs": [],
   "source": [
    "evi_cropped = calc_evi(red_cropped, blue_cropped, nir_cropped) # Generate EVI array\n",
    "evi_cropped"
   ]
  },
  {
   "attachments": {},
   "cell_type": "markdown",
   "metadata": {},
   "source": [
    "Next, plot the results using `hvplot`."
   ]
  },
  {
   "cell_type": "code",
   "execution_count": null,
   "metadata": {},
   "outputs": [],
   "source": [
    "evi_cropped.hvplot.image(aspect='equal', cmap='YlGn', frame_width=300).opts(title=f'HLS-derived EVI, {evi_cropped.SENSING_TIME}', clabel='EVI')"
   ]
  },
  {
   "attachments": {},
   "cell_type": "markdown",
   "metadata": {},
   "source": [
    "Above, notice that our farm field boundary actually appears to be comprised of two separate fields, one being much greener than the other. "
   ]
  },
  {
   "attachments": {},
   "cell_type": "markdown",
   "metadata": {},
   "source": [
    "### 5.2 Quality Filtering <a id=\"2.1\"></a>\n",
    "\n",
    "In this section, load in the `Fmask` quality layer, breakdown the bit-encoded information, define good quality observations, and apply a mask to the EVI layer using pixels with good quality as defined by the `Fmask`."
   ]
  },
  {
   "cell_type": "code",
   "execution_count": null,
   "metadata": {},
   "outputs": [],
   "source": [
    "fmask_cropped = fmask.rio.clip(fsUTM.geometry.values, fsUTM.crs, all_touched=True)  # Load in the Quality data\n",
    "fmask_cropped"
   ]
  },
  {
   "attachments": {
    "image-2.png": {
     "image/png": "[encoded data removed]"
    }
   },
   "cell_type": "markdown",
   "metadata": {},
   "source": [
    "![fmask_table.png](attachment:image-2.png)"
   ]
  },
  {
   "attachments": {},
   "cell_type": "markdown",
   "metadata": {},
   "source": [
    "The quality table above can be found in section 6.4 of the [HLS V2.0 User Guide](https://lpdaac.usgs.gov/documents/1326/HLS_User_Guide_V2.pdf). We can also make our own dataframe to reference which bit numbers are associated with what description."
   ]
  },
  {
   "cell_type": "code",
   "execution_count": null,
   "metadata": {},
   "outputs": [],
   "source": [
    "qa_df = pd.DataFrame(data={'bit_number':(np.arange(0,7)),'mask_name':(['Cirrus','Cloud','Cloud Adjacent','Cloud Shadow','Snow/Ice','Water','Aerosol Level'])})\n",
    "qa_df"
   ]
  },
  {
   "attachments": {},
   "cell_type": "markdown",
   "metadata": {},
   "source": [
    "Create a function to unpacked the quality layers and build an `xarray.dataset` from the quality data."
   ]
  },
  {
   "cell_type": "code",
   "execution_count": null,
   "metadata": {},
   "outputs": [],
   "source": [
    "# Function to create unpacked quality xarray.dataset, fmask_xa: an xarray.dataarray of the HLS fmask layer\n",
    "def unpack_fmask(fmask_xa, chunk_size):\n",
    "    # Create Dataframe describing bit numbers\n",
    "    qa_df = pd.DataFrame(data={'bit_number':(np.arange(0,7)),'mask_name':(['Cirrus','Cloud','Cloud Adjacent','Cloud Shadow','Snow/Ice','Water','Aerosol Level'])})\n",
    "    # Convert from dask array to numpy array to use unpackbits - we will put it back into a dask array later\n",
    "    fmask_np = np.array(fmask_xa.data)\n",
    "    # Unpack the bits using numpy - First creating a new dimension to unpack along and converting to uint8 from float32\n",
    "    unpacked_qa = np.unpackbits(fmask_np[np.newaxis,:,:].astype('uint8'),axis=0)\n",
    "    # Since our Aerosols are dependent on 2 bands we can change use values 0 - 3 instead of binary to represent the possible conditions and combine them into a single layer by multiplying the bit 7 by 2.\n",
    "    unpacked_qa[0,:,:] *=2\n",
    "    aerosols = unpacked_qa[0,:,:] + unpacked_qa[1,:,:]\n",
    "    # Add the combined Aerosol layer to the remaining quality layers (excluding 1&2 which were Aerosols) \n",
    "    qa_data = np.concatenate((aerosols[np.newaxis,:,:],unpacked_qa[2:,:,:]), axis=0)\n",
    "    # Flip will reverse the order of layers, so our bit-numbers will align with them\n",
    "    qa_data = np.flip(qa_data, axis=0)\n",
    "    # Create an xarray dataset to represent the quality values - first create a dictionary defining the data vars\n",
    "    data_vars = {'quality_layers':(['band','y','x'], qa_data)}\n",
    "    # Next do the same for the coordinates. Here we unpack dictionaries from the existing fmask xarray dataset to populate the x and y dimensions.\n",
    "    coords = {'band':(['band'], qa_df['bit_number']), **fmask_cropped.coords, 'mask_description':(['band'], qa_df['mask_name'])}\n",
    "    # Create and chunk dataset (back to dask array)\n",
    "    qa_ds = xr.Dataset(data_vars=data_vars, coords=coords, attrs=fmask_cropped.attrs).chunk(chunk_size)\n",
    "    return qa_ds"
   ]
  },
  {
   "cell_type": "code",
   "execution_count": null,
   "metadata": {},
   "outputs": [],
   "source": [
    "qa_ds = unpack_fmask(fmask_cropped, chunk_size)\n",
    "qa_ds.sel(band=6).hvplot.image(aspect='equal')"
   ]
  },
  {
   "attachments": {},
   "cell_type": "markdown",
   "metadata": {},
   "source": [
    "We can create a list of bit numbers and aerosol values we want to mask out of our analysis. Show our dataframe of bit numbers and descriptions."
   ]
  },
  {
   "cell_type": "code",
   "execution_count": null,
   "metadata": {},
   "outputs": [],
   "source": [
    "qa_df"
   ]
  },
  {
   "attachments": {},
   "cell_type": "markdown",
   "metadata": {},
   "source": [
    "For this example, we want to exclude all of the binary layers (0 through 5) and we want to only include pixels with low aerosols. Make a list containing the mask layers you want to filter out of the dataset, and pick an aerosol level threshold to filter using the aerosol layer."
   ]
  },
  {
   "cell_type": "code",
   "execution_count": null,
   "metadata": {},
   "outputs": [],
   "source": [
    "# Specify Mask Layers to include (0-5 only)\n",
    "mask_selection = [0,1,2,3,4,5]\n",
    "# Select Aerosol threshold (inclusive) for what is considered too high (0 = Climate, 1 = Low, 2 = moderate, 3 = high)\n",
    "aerosol_threshold = 1"
   ]
  },
  {
   "attachments": {},
   "cell_type": "markdown",
   "metadata": {},
   "source": [
    "Create a function to mask (filter out) the selected quality layers and the aerosol levels that fall above your desired threshold."
   ]
  },
  {
   "cell_type": "code",
   "execution_count": null,
   "metadata": {},
   "outputs": [],
   "source": [
    "# Create a function to mask mask where where aerosol threshold >= value specified \n",
    "def apply_mask(dataset,quality_dataset, mask_sel, aerosol_thresh):\n",
    "    aerosol_layer = np.where(quality_dataset['quality_layers'].data[6,:,:] > aerosol_thresh, 1, 0) \n",
    "    # Concatenate with other selected mask layers\n",
    "    mask_layers = np.concatenate((quality_dataset['quality_layers'].data[mask_selection,:,:], aerosol_layer[np.newaxis,:,:]), axis=0)\n",
    "    # Combine them into a single mask\n",
    "    combined_mask = np.sum(mask_layers, axis=0)\n",
    "    combined_mask[combined_mask > 1] = 1\n",
    "    # Apply Mask\n",
    "    masked_evi = dataset.copy() # Create Copy of our HLS dataset (in this case EVI)\n",
    "    masked_evi.data[combined_mask == 1] = np.nan # Use numpy indexing to set values in our mask to np.nan\n",
    "    return(masked_evi)"
   ]
  },
  {
   "attachments": {},
   "cell_type": "markdown",
   "metadata": {},
   "source": [
    "# Apply the mask to our `xarray.Dataset`\n",
    "\n",
    "Apply the mask and plot the masked and non-masked EVI side by side."
   ]
  },
  {
   "cell_type": "code",
   "execution_count": null,
   "metadata": {},
   "outputs": [],
   "source": [
    "# Apply Mask\n",
    "masked_evi = apply_mask(evi_cropped, qa_ds, mask_selection, aerosol_threshold)\n",
    "masked_evi.hvplot.image(aspect='equal', cmap='YlGn', frame_width=300).opts(title='Masked EVI') + evi_cropped.hvplot.image(aspect='equal', cmap='YlGn', frame_width=300).opts(title='EVI')"
   ]
  },
  {
   "attachments": {},
   "cell_type": "markdown",
   "metadata": {},
   "source": [
    "Above we can see the small region in the north west edge of our ROI has been masked out."
   ]
  },
  {
   "attachments": {},
   "cell_type": "markdown",
   "metadata": {},
   "source": [
    "### 5.3 Export to COG <a id=\"2.1\"></a>\n",
    "\n",
    "In this section, create an output filename and export the quality filtered EVI to COG. "
   ]
  },
  {
   "cell_type": "code",
   "execution_count": null,
   "metadata": {},
   "outputs": [],
   "source": [
    "original_name = evi_band_links[3].split('/')[-1]\n",
    "original_name"
   ]
  },
  {
   "attachments": {},
   "cell_type": "markdown",
   "metadata": {},
   "source": [
    "The standard format  for HLS S30 V2.0 and HLS L30 V2.0 filenames is as follows:\n",
    "> **HLS.S30/HLS.L30**: Product Short Name    \n",
    "**T10TEK**: MGRS Tile ID (T+5-digits)  \n",
    "**2020273T190109**: Julian Date and Time of Acquisition (YYYYDDDTHHMMSS)  \n",
    "**v2.0**: Product Version   \n",
    "**B8A/B05**: Spectral Band  \n",
    "**.tif**: Data Format (Cloud Optimized GeoTIFF)  "
   ]
  },
  {
   "attachments": {},
   "cell_type": "markdown",
   "metadata": {},
   "source": [
    "For additional information on HLS naming conventions, be sure to check out the [HLS Overview Page](https://lpdaac.usgs.gov/data/get-started-data/collection-overview/missions/harmonized-landsat-sentinel-2-hls-overview/#hls-naming-conventions).\n",
    "\n",
    "Now modify the filename to describe that its EVI, cropped to an ROI and masked."
   ]
  },
  {
   "cell_type": "code",
   "execution_count": null,
   "metadata": {},
   "outputs": [],
   "source": [
    "out_name = f\"{original_name.split('.B')[0]}_EVI_cropped_masked.tif\"  # Generate output name from the original filename\n",
    "out_name"
   ]
  },
  {
   "attachments": {},
   "cell_type": "markdown",
   "metadata": {},
   "source": [
    "Use the `COG` driver to write a local raster output. A cloud-optimized geotiff (COG) is a geotiff file that has been tiled and includes overviews so it can be accessed and previewed without having to load the entire image into memory at once."
   ]
  },
  {
   "cell_type": "code",
   "execution_count": null,
   "metadata": {},
   "outputs": [],
   "source": [
    "out_folder = '../../data/'\n",
    "#masked_evi.rio.to_raster(raster_path=f'{out_folder}{out_name}', driver='COG')"
   ]
  },
  {
   "cell_type": "code",
   "execution_count": null,
   "metadata": {},
   "outputs": [],
   "source": [
    "del masked_evi, evi_cropped, out_folder, out_name, mask_selection, aerosol_threshold, qa_df, qa_ds, fmask_cropped, red_cropped, blue_cropped, nir_cropped, nir, red, blue, fmask"
   ]
  },
  {
   "attachments": {},
   "cell_type": "markdown",
   "metadata": {},
   "source": [
    "---"
   ]
  },
  {
   "attachments": {},
   "cell_type": "markdown",
   "metadata": {},
   "source": [
    "## 6. Automation <a id=\"automation\"></a>\n",
    "\n",
    "In this section, automate sections 4-5 for each HLS item that intersects our spatiotemporal subset of interest. Loop through each item and subset to the desired bands, load the spatial subset into memory, apply the scale factor, calculate EVI, quality filter, and export as a Cloud Optimized GeoTIFF. "
   ]
  },
  {
   "cell_type": "code",
   "execution_count": null,
   "metadata": {},
   "outputs": [],
   "source": [
    "len(hls_results_urls)"
   ]
  },
  {
   "cell_type": "code",
   "execution_count": null,
   "metadata": {},
   "outputs": [],
   "source": [
    "# This Cell is for testing purposes only. Item 16 writes different values \n",
    "#    I think some sort of scaling or something is being applied during the writing stage, but I'm unsure where its coming from.\n",
    "mask_selection = [0,1,2,3,4,5]\n",
    "aerosol_threshold = 1\n",
    "\n",
    "h = hls_results_urls[16]\n",
    "outName = h[0].split('/')[-1].replace('.VAA.tif', '_EVI_cropped_masked_test.tif')\n",
    "    \n",
    "# Check if file already exists in output directory, if yes--skip that file and move to the next observation\n",
    "#if os.path.exists(f'../../data/{outName}'):\n",
    "   # print(f\"{outName} has already been processed and is available in this directory, moving to next file.\")\n",
    "    \n",
    "#try:\n",
    "evi_band_links = []\n",
    "if h[0].split('/')[4] == 'HLSS30.020':\n",
    "    evi_bands = ['B8A', 'B04', 'B02', 'Fmask'] # NIR RED BLUE FMASK\n",
    "else:\n",
    "    evi_bands = ['B05', 'B04', 'B02', 'Fmask'] # NIR RED BLUE FMASK\n",
    "    \n",
    "for a in h: \n",
    "    if any(b in a for b in evi_bands):\n",
    "        evi_band_links.append(a)\n",
    "\n",
    "# Use vsicurl to load the data directly into memory (be patient, may take a few seconds)\n",
    "chunk_size = dict(band=1, x=512, y=512)\n",
    "for e in evi_band_links:\n",
    "    print(e)\n",
    "    if e.rsplit('.', 2)[-2] == evi_bands[0]:      # NIR index\n",
    "        nir = rxr.open_rasterio(e, mask_and_scale=True, chunks=chunk_size).squeeze('band', drop=True)\n",
    "    elif e.rsplit('.', 2)[-2] == evi_bands[1]:    # red index\n",
    "        red = rxr.open_rasterio(e, mask_and_scale=True, chunks=chunk_size).squeeze('band', drop=True)\n",
    "    elif e.rsplit('.', 2)[-2] == evi_bands[2]:    # blue index\n",
    "        blue = rxr.open_rasterio(e, mask_and_scale=True, chunks=chunk_size).squeeze('band', drop=True)\n",
    "    elif e.rsplit('.', 2)[-2] == evi_bands[3]:    # Fmask index\n",
    "        fmask = rxr.open_rasterio(e, chunks=chunk_size).squeeze('band', drop=True)\n",
    "print(\"The COGs have been loaded into memory!\")\n",
    "\n",
    "fsUTM = field.to_crs(nir.spatial_ref.crs_wkt)\n",
    "\n",
    "# Crop to our ROI and apply scaling and masking\n",
    "nir = nir.rio.clip(fsUTM.geometry.values, fsUTM.crs, all_touched=True)\n",
    "red = red.rio.clip(fsUTM.geometry.values, fsUTM.crs, all_touched=True)\n",
    "blue = blue.rio.clip(fsUTM.geometry.values, fsUTM.crs, all_touched=True)\n",
    "fmask_cropped = fmask.rio.clip(fsUTM.geometry.values, fsUTM.crs, all_touched=True)\n",
    "nir = fix_scaling(nir)\n",
    "red = fix_scaling(red)\n",
    "blue = fix_scaling(blue)\n",
    "evi = calc_evi(red, blue, nir)\n",
    "\n",
    "# Quality Filter the data\n",
    "qa_ds = unpack_fmask(fmask_cropped, chunk_size)\n",
    "masked_evi = apply_mask(evi, qa_ds, mask_selection, aerosol_threshold)\n",
    "masked_evi.rio.to_raster(raster_path=f'../../data/{outName}', driver='COG')"
   ]
  },
  {
   "cell_type": "code",
   "execution_count": null,
   "metadata": {},
   "outputs": [],
   "source": [
    "ds = rxr.open_rasterio(f'../../data/{outName}').squeeze('band', drop=True)\n",
    "masked_evi.hvplot.image(aspect='equal', cmap='YlGn', frame_width=300) + ds.hvplot.image(x='x', y='y', aspect='equal', cmap='YlGn', frame_width=300)"
   ]
  },
  {
   "cell_type": "code",
   "execution_count": null,
   "metadata": {},
   "outputs": [],
   "source": [
    "masked_evi"
   ]
  },
  {
   "cell_type": "code",
   "execution_count": null,
   "metadata": {},
   "outputs": [],
   "source": [
    "ds"
   ]
  },
  {
   "attachments": {},
   "cell_type": "markdown",
   "metadata": {},
   "source": [
    "Be patient with the for loop below, it may take a few minutes to complete. "
   ]
  },
  {
   "cell_type": "code",
   "execution_count": null,
   "metadata": {},
   "outputs": [],
   "source": [
    "# Now put it all together and loop through each of the files, visualize, calculate statistics on EVI, and export\n",
    "\n",
    "# Specify Mask Layers to include (0-5 only)\n",
    "mask_selection = [0,1,2,3,4,5]\n",
    "\n",
    "# Select Aerosol threshold (inclusive) for what is considered too high (0 = Climate, 1 = Low, 2 = moderate, 3 = high)\n",
    "aerosol_threshold = 1\n",
    "\n",
    "for j, h in enumerate(hls_items):\n",
    "    outName = h['assets']['browse']['href'].split('/')[-1].replace('.jpg', '_EVI_cropped_masked.tif')\n",
    "    \n",
    "    # Check if file already exists in output directory, if yes--skip that file and move to the next observation\n",
    "    if os.path.exists(f'../../data/{outName}'):\n",
    "        print(f\"{outName} has already been processed and is available in this directory, moving to next file.\")\n",
    "        continue\n",
    "    \n",
    "    evi_band_links = []\n",
    "    if h.split('/')[4] == 'HLSS30.020':\n",
    "        evi_bands = ['B8A', 'B04', 'B02', 'Fmask'] # NIR RED BLUE FMASK\n",
    "    else:\n",
    "        evi_bands = ['B05', 'B04', 'B02', 'Fmask'] # NIR RED BLUE FMASK\n",
    "    \n",
    "    for a in h: \n",
    "        if any(b in a for b in evi_bands):\n",
    "            evi_band_links.append(a)\n",
    "\n",
    "    # Use vsicurl to load the data directly into memory (be patient, may take a few seconds)\n",
    "    chunk_size = dict(band=1, x=512, y=512)\n",
    "    for e in evi_band_links:\n",
    "        print(e)\n",
    "        if e.rsplit('.', 2)[-2] == evi_bands[0]:      # NIR index\n",
    "            nir = rxr.open_rasterio(e, mask_and_scale=True, chunks=chunk_size).squeeze('band', drop=True)\n",
    "        elif e.rsplit('.', 2)[-2] == evi_bands[1]:    # red index\n",
    "            red = rxr.open_rasterio(e, mask_and_scale=True, chunks=chunk_size).squeeze('band', drop=True)\n",
    "        elif e.rsplit('.', 2)[-2] == evi_bands[2]:    # blue index\n",
    "            blue = rxr.open_rasterio(e, mask_and_scale=True, chunks=chunk_size).squeeze('band', drop=True)\n",
    "        elif e.rsplit('.', 2)[-2] == evi_bands[3]:    # Fmask index\n",
    "            fmask = rxr.open_rasterio(e, chunks=chunk_size).squeeze('band', drop=True)\n",
    "    print(\"The COGs have been loaded into memory!\")\n",
    "    \n",
    "    fsUTM = field.to_crs(nir.spatial_ref.crs_wkt)\n",
    "\n",
    "    # Crop to our ROI and apply scaling and masking\n",
    "    nir = nir.rio.clip(fsUTM.geometry.values, fsUTM.crs, all_touched=True)\n",
    "    red = red.rio.clip(fsUTM.geometry.values, fsUTM.crs, all_touched=True)\n",
    "    blue = blue.rio.clip(fsUTM.geometry.values, fsUTM.crs, all_touched=True)\n",
    "    fmask_cropped = fmask.rio.clip(fsUTM.geometry.values, fsUTM.crs, all_touched=True)\n",
    "    \n",
    "    print('Cropped')      \n",
    "    \n",
    "    # Fix Scaling\n",
    "    nir = fix_scaling(nir)\n",
    "    red = fix_scaling(red)\n",
    "    blue = fix_scaling(blue)\n",
    "\n",
    "    # Generate EVI\n",
    "    \n",
    "    evi = calc_evi(red, blue, nir)\n",
    "    print('EVI Calculated')\n",
    "    \n",
    "    # Quality Filter the data\n",
    "    qa_ds = unpack_fmask(fmask_cropped, chunk_size)\n",
    "    masked_evi = apply_mask(evi, qa_ds, mask_selection, aerosol_threshold)\n",
    "\n",
    "    print('Masking Complete')\n",
    "\n",
    "    # Remove any observations that are entirely fill value\n",
    "    if np.nansum(masked_evi.data).compute() == 0.0:\n",
    "        print(f\"File: {h.split('/')[-1].rsplit('.', 1)[0]} ({h['id']}) was entirely fill values and will not be exported.\")\n",
    "        continue\n",
    "        \n",
    "    masked_evi.rio.to_raster(raster_path=f'../../data/{outName}', driver='COG')\n",
    "    \n",
    "    print(f\"Processing file {j+1} of {len(hls_items)}\")"
   ]
  },
  {
   "attachments": {},
   "cell_type": "markdown",
   "metadata": {},
   "source": [
    "Now there should be multiple COGs exported to your working directory, that will be used in Section 7 to stack into a time series. "
   ]
  },
  {
   "attachments": {},
   "cell_type": "markdown",
   "metadata": {},
   "source": [
    "---"
   ]
  },
  {
   "attachments": {},
   "cell_type": "markdown",
   "metadata": {},
   "source": [
    "## 7. Stacking HLS Data <a id=\"stackhls\"></a>\n",
    "\n",
    "In this section we will open multiple HLS-derived EVI COGs and stack them into an `xarray` data array along the time dimension. First list the files we created in the `/data/` directory."
   ]
  },
  {
   "cell_type": "code",
   "execution_count": null,
   "metadata": {},
   "outputs": [],
   "source": [
    "evi_dir = '../../data/'\n",
    "evi_files = [os.path.abspath(os.path.join(evi_dir, o)) for o in os.listdir(evi_dir) if o.endswith('EVI_cropped_masked.tif')]  # List EVI COGs\n",
    "#evi_files = [os.path.abspath(os.path.join( for o in os.listdir('../../data/') if o.endswith('EVI_masked.tif')]  # List EVI COGs\n",
    "evi_files"
   ]
  },
  {
   "attachments": {},
   "cell_type": "markdown",
   "metadata": {},
   "source": [
    "Create a time index as an xarray variable from the filenames."
   ]
  },
  {
   "cell_type": "code",
   "execution_count": null,
   "metadata": {},
   "outputs": [],
   "source": [
    "def time_index_from_filenames(evi_files):\n",
    "    '''\n",
    "    Helper function to create a pandas DatetimeIndex\n",
    "    '''\n",
    "    return [datetime.strptime(f.split('.')[-4], '%Y%jT%H%M%S') for f in evi_files]\n",
    "\n",
    "time = xr.Variable('time', time_index_from_filenames(evi_files))"
   ]
  },
  {
   "cell_type": "code",
   "execution_count": null,
   "metadata": {},
   "outputs": [],
   "source": [
    "chunks=dict(band=1, x=512, y=512)\n",
    "\n",
    "evi_ts = xr.concat([rxr.open_rasterio(f, mask_and_scale=True, chunks=chunks).squeeze('band', drop=True) for f in evi_files], dim=time)\n",
    "evi_ts.name = 'EVI'"
   ]
  },
  {
   "cell_type": "code",
   "execution_count": null,
   "metadata": {},
   "outputs": [],
   "source": [
    "evi_ts = evi_ts.sortby(evi_ts.time)\n",
    "evi_ts"
   ]
  },
  {
   "attachments": {},
   "cell_type": "markdown",
   "metadata": {},
   "source": [
    "### 7.2 Visualize Stacked Time Series<a id=\"4.1\"></a>\n",
    "\n",
    "Below, use the [`hvPlot`](https://hvplot.pyviz.org/index.html) and [`holoviews`](https://www.holoviews.org/) packages to create an interactive time series plot of the HLS derived EVI data."
   ]
  },
  {
   "cell_type": "code",
   "execution_count": null,
   "metadata": {},
   "outputs": [],
   "source": [
    "# set the x, y, and z (groupby) dimensions, add a colormap/bar and other parameters.\n",
    "title = 'HLS-derived EVI over an agricultural field in northern California'\n",
    "evi_ts_plot = evi_ts.isel(time=4).hvplot(x='x', y='y', cmap='YlGn', geo=True, tiles = 'EsriImagery', frame_width=400).opts(title=title)\n",
    "evi_ts_plot"
   ]
  },
  {
   "attachments": {},
   "cell_type": "markdown",
   "metadata": {},
   "source": [
    "Next, add a basemap layer to provide better context of the areas surrounding our region of interest."
   ]
  },
  {
   "attachments": {},
   "cell_type": "markdown",
   "metadata": {
    "tags": []
   },
   "source": [
    "Looking at the time series above, this farm field is likely a field of walnut trees. Notice the higher EVI (greens) during the summer and browning that is likely occurring from dry conditions as the time series progresses later into autumn. "
   ]
  },
  {
   "attachments": {},
   "cell_type": "markdown",
   "metadata": {},
   "source": [
    "Since the data is in an xarray we can intuitively slice or reduce the dataset. Let's select a single time slice from the EVI variable."
   ]
  },
  {
   "attachments": {},
   "cell_type": "markdown",
   "metadata": {},
   "source": [
    "You can use slicing to plot data only for a specific observation, for example."
   ]
  },
  {
   "cell_type": "code",
   "execution_count": null,
   "metadata": {},
   "outputs": [],
   "source": [
    "evi_ts.hvplot.box('EVI', by=['time'], rot=90, box_fill_color='lightblue', width=900, height=400)"
   ]
  },
  {
   "attachments": {},
   "cell_type": "markdown",
   "metadata": {},
   "source": [
    "Now, plot the time series as boxplots showing the distribution of EVI values for our farm field."
   ]
  },
  {
   "attachments": {},
   "cell_type": "markdown",
   "metadata": {},
   "source": [
    "Again, the statistics appear to support the conclusion that greener conditions prevailed in the summer of 2020 vs. later in autumn."
   ]
  },
  {
   "attachments": {},
   "cell_type": "markdown",
   "metadata": {},
   "source": [
    "### 7.3 Export Statistics<a id=\"4.1\"></a>\n",
    "\n",
    "Next, calculate statistics for each observation and export to CSV. "
   ]
  },
  {
   "cell_type": "code",
   "execution_count": null,
   "metadata": {},
   "outputs": [],
   "source": [
    "# xarray allows you to easily calculate a number of statistics\n",
    "evi_min = evi_ts.min(('y', 'x'))\n",
    "evi_max = evi_ts.max(('y', 'x'))\n",
    "evi_mean = evi_ts.mean(('y', 'x'))\n",
    "evi_sd = evi_ts.std(('y', 'x'))\n",
    "evi_count = evi_ts.count(('y', 'x'))\n",
    "evi_median = evi_ts.median(('y', 'x'))"
   ]
  },
  {
   "attachments": {},
   "cell_type": "markdown",
   "metadata": {},
   "source": [
    "We now have the `mean` and `standard deviation` for each time slice as well as the `maximum` and `minimum` values. Let's do some plotting! We will use the [`hvPlot`](https://hvplot.pyviz.org/index.html) package to create simple but interactive charts/plots. Hover your curser over the visualization to see the data values. "
   ]
  },
  {
   "cell_type": "code",
   "execution_count": null,
   "metadata": {},
   "outputs": [],
   "source": [
    "evi_mean.hvplot.line()"
   ]
  },
  {
   "cell_type": "code",
   "execution_count": null,
   "metadata": {},
   "outputs": [],
   "source": [
    "# Ignore warnings\n",
    "import warnings\n",
    "warnings.filterwarnings('ignore')\n",
    "\n",
    "# Combine line plots for different statistics\n",
    "stats = (evi_mean.hvplot.line(height=350, width=450, line_width=1.5, color='red', grid=True, padding=0.05).opts(title='Mean')+ \n",
    "    evi_sd.hvplot.line(height=350, width=450, line_width=1.5, color='red', grid=True, padding=0.05).opts(title='Standard Deviation')\n",
    "    + evi_max.hvplot.line(height=350, width=450, line_width=1.5, color='red', grid=True, padding=0.05).opts(title='Max') + \n",
    "    evi_min.hvplot.line(height=350, width=450, line_width=1.5, color='red', grid=True, padding=0.05).opts(title='Min')).cols(2)\n",
    "stats"
   ]
  },
  {
   "attachments": {},
   "cell_type": "markdown",
   "metadata": {},
   "source": [
    "Remember that these graphs are also interactive--hover over the line to see the value for a given date. "
   ]
  },
  {
   "attachments": {},
   "cell_type": "markdown",
   "metadata": {},
   "source": [
    "Finally, create a `pandas` dataframe with the statistics, and export to a CSV file. "
   ]
  },
  {
   "cell_type": "code",
   "execution_count": null,
   "metadata": {},
   "outputs": [],
   "source": [
    "# Create pandas dataframe from dictionary\n",
    "df = pd.DataFrame({'Min EVI': evi_min, 'Max EVI': evi_max, \n",
    "                   'Mean EVI': evi_mean, 'Standard Deviation EVI': evi_sd, \n",
    "                   'Median EVI': evi_median, 'Count': evi_count})"
   ]
  },
  {
   "cell_type": "code",
   "execution_count": null,
   "metadata": {},
   "outputs": [],
   "source": [
    "df.index = evi_ts.time.data                       # Set the observation date as the index\n",
    "df.to_csv('HLS-Derived_EVI_Stats.csv', index=True)  # Export to CSV"
   ]
  },
  {
   "attachments": {},
   "cell_type": "markdown",
   "metadata": {},
   "source": [
    "Success! You have now not only learned how to get started with HLS V2.0 data, but have also learned how to navigate cloud-native data using STAC, how to access subsets of COGs, and how to write COGs for your own outputs. Using this jupyter notebook as a workflow, you should now be able to switch to your specific region of interest and re-run the notebook. Good Luck!"
   ]
  },
  {
   "attachments": {},
   "cell_type": "markdown",
   "metadata": {},
   "source": [
    "## Contact Info  \n",
    "\n",
    "Email: LPDAAC@usgs.gov  \n",
    "Voice: +1-866-573-3222  \n",
    "Organization: Land Processes Distributed Active Archive Center (LP DAAC)¹  \n",
    "Website: <https://lpdaac.usgs.gov/>  \n",
    "Date last modified: 05-04-2023  \n",
    "\n",
    "¹Work performed under USGS contract G15PD00467 for NASA contract NNG14HH33I. "
   ]
  }
 ],
 "metadata": {
  "kernelspec": {
   "display_name": "Python 3 (ipykernel)",
   "language": "python",
   "name": "python3"
  },
  "language_info": {
   "codemirror_mode": {
    "name": "ipython",
    "version": 3
   },
   "file_extension": ".py",
   "mimetype": "text/x-python",
   "name": "python",
   "nbconvert_exporter": "python",
   "pygments_lexer": "ipython3",
   "version": "3.9.16"
  }
 },
 "nbformat": 4,
 "nbformat_minor": 4
}
